{
  "cells": [
    {
      "cell_type": "markdown",
      "metadata": {
        "id": "K6mcSc0mmp3i"
      },
      "source": [
        "# Installing dependencies"
      ]
    },
    {
      "cell_type": "markdown",
      "metadata": {},
      "source": [
        "This code is specifically written as to use it in Google Collab, as the processing of the full file at oncetakes a ~35 GB CPU"
      ]
    },
    {
      "cell_type": "code",
      "execution_count": null,
      "metadata": {
        "id": "f8Brdfh6mzEz"
      },
      "outputs": [],
      "source": [
        "!apt install ffmpeg\n",
        "pip install spleeter\n"
      ]
    },
    {
      "cell_type": "markdown",
      "metadata": {
        "id": "afbcUSken16L"
      },
      "source": [
        "# Seperate Audio (2 Stems - Vocals & Ambiance)"
      ]
    },
    {
      "cell_type": "markdown",
      "metadata": {},
      "source": [
        "Loading in the Audio & displaying a playable version"
      ]
    },
    {
      "cell_type": "code",
      "execution_count": null,
      "metadata": {
        "id": "O1kQaoJSoAD0"
      },
      "outputs": [],
      "source": [
        "from IPython.display import Audio\n",
        "Audio('Mono1.mp3')"
      ]
    },
    {
      "cell_type": "markdown",
      "metadata": {},
      "source": [
        "To get mote information about the options of spleeter seperating the audio use \"spleeter separate --help\".\n",
        "\n",
        "For this seperation we are using their pre-trained 2-stem model to seperate the vocals\n"
      ]
    },
    {
      "cell_type": "code",
      "execution_count": null,
      "metadata": {
        "id": "dGL-k5xxoKbu"
      },
      "outputs": [],
      "source": [
        "# First Mono track seperation\n",
        "!spleeter separate -d 1347 -o output/ Mono1.mp3\n",
        "!ls output/Mono1"
      ]
    },
    {
      "cell_type": "code",
      "execution_count": null,
      "metadata": {
        "id": "IDuPWcAMoZP_"
      },
      "outputs": [],
      "source": [
        "# Second Mono track seperation\n",
        "!spleeter separate -d 1347 -o output/ Mono2.mp3\n",
        "!ls output/Mono2"
      ]
    },
    {
      "cell_type": "code",
      "execution_count": null,
      "metadata": {},
      "outputs": [],
      "source": [
        "# Stereo track seperation\n",
        "!spleeter separate -d 1347 -o output/ Stereo.mp3\n",
        "!ls output/Stereo"
      ]
    },
    {
      "cell_type": "markdown",
      "metadata": {},
      "source": [
        "# Presentation of results"
      ]
    },
    {
      "cell_type": "code",
      "execution_count": null,
      "metadata": {
        "id": "e7CHpyiloxrk"
      },
      "outputs": [],
      "source": [
        "Audio('output/Stereo/accompaniment.wav')\n",
        "Audio('output/Stereo/vocals.wav')"
      ]
    }
  ],
  "metadata": {
    "colab": {
      "name": "spleeter.ipynb",
      "provenance": []
    },
    "kernelspec": {
      "display_name": "Python 3",
      "name": "python3"
    }
  },
  "nbformat": 4,
  "nbformat_minor": 0
}
